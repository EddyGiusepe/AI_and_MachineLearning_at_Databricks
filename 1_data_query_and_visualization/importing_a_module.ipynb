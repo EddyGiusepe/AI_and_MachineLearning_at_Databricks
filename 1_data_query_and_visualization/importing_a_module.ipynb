{
 "cells": [
  {
   "cell_type": "markdown",
   "id": "46bb3704",
   "metadata": {},
   "source": [
    "# <h1 align=\"center\"><font color=\"gree\">Importando um script ``.py`` e Notebook ``.ipynb`` com o comando ``%run``</font></h1>"
   ]
  },
  {
   "cell_type": "markdown",
   "id": "75fc35f8",
   "metadata": {},
   "source": [
    "<font color=\"pink\">Senior Data Scientist.: Dr. Eddy Giusepe Chirinos Isidro</font>\n"
   ]
  },
  {
   "cell_type": "markdown",
   "id": "452d536f",
   "metadata": {},
   "source": [
    "Neste Notebook vamos executar o comando ``%run`` para importar um script ``.py`` e um Notebook ``.ipynb``. Cada script \"importado\" realiza uma tarefa específica."
   ]
  },
  {
   "cell_type": "markdown",
   "id": "26f38762",
   "metadata": {},
   "source": [
    "# <font color=\"red\">Conexão com o Databricks</font>"
   ]
  },
  {
   "cell_type": "code",
   "execution_count": 1,
   "id": "65686e9a",
   "metadata": {},
   "outputs": [
    {
     "name": "stdout",
     "output_type": "stream",
     "text": [
      "🔗 Carregado minhas credenciais do Databricks, com sucesso!\n"
     ]
    }
   ],
   "source": [
    "# Só executar quando estiver trabalhando localmente:\n",
    "import os\n",
    "from dotenv import load_dotenv, find_dotenv\n",
    "\n",
    "\n",
    "_ = load_dotenv(find_dotenv())\n",
    "\n",
    "databricks_host = os.environ['DATABRICKS_HOST']\n",
    "databricks_token = os.environ['DATABRICKS_TOKEN']\n",
    "databricks_cluster_id = os.environ['DATABRICKS_CLUSTER_ID']\n",
    "\n",
    "print(\"🔗 Carregado minhas credenciais do Databricks, com sucesso!\")"
   ]
  },
  {
   "cell_type": "markdown",
   "id": "0ae360b9",
   "metadata": {},
   "source": [
    "A seguir vamos usar `Databricks Connect` para conectar ao Databricks e executar código `Spark` localmente, mas processando os dados remotamente no cluster Databricks."
   ]
  },
  {
   "cell_type": "code",
   "execution_count": 2,
   "id": "ca3cfc14",
   "metadata": {},
   "outputs": [
    {
     "name": "stdout",
     "output_type": "stream",
     "text": [
      "✅ Conectado ao Databricks com sucesso!\n",
      "🔧 Versão Spark: 4.0.0\n",
      "📦 DBUtils configurado e pronto para uso!\n"
     ]
    }
   ],
   "source": [
    "from databricks.connect import DatabricksSession # Esta classe é usada para conectar ao Databricks remotamente\n",
    "from pyspark.dbutils import DBUtils # Para usar dbutils localmente\n",
    "\n",
    "spark = DatabricksSession.builder.remote(host=databricks_host, token=databricks_token, cluster_id=databricks_cluster_id).getOrCreate()\n",
    "\n",
    "# Criar instância do DBUtils para usar dbutils localmente:\n",
    "dbutils = DBUtils(spark)\n",
    "\n",
    "print(\"✅ Conectado ao Databricks com sucesso!\")\n",
    "print(f\"🔧 Versão Spark: {spark.version}\")\n",
    "print(f\"📦 DBUtils configurado e pronto para uso!\")"
   ]
  },
  {
   "cell_type": "code",
   "execution_count": null,
   "id": "53957d86",
   "metadata": {},
   "outputs": [],
   "source": [
    "# Executar, só lá, no Databricks para conhecer o ID do Cluster:\n",
    "\n",
    "#databricks_cluster_id = spark.conf.get(\"spark.databricks.clusterUsageTags.clusterId\")\n",
    "\n",
    "#print(f\"Databricks Cluster ID: {databricks_cluster_id}\")"
   ]
  },
  {
   "cell_type": "markdown",
   "id": "ba61972c",
   "metadata": {},
   "source": [
    "# <font color=\"red\">Usando o comando `%run` para executar scripts</font>"
   ]
  },
  {
   "cell_type": "markdown",
   "id": "3c74e480",
   "metadata": {},
   "source": [
    "O comando `%run` é um comando mágico do Jupyter/IPython que executa um script Python e torna suas funções e variáveis disponíveis no namespace do notebook. O uso é da seguinte forma:\n",
    "\n",
    "```python\n",
    "%run caminho/para/script.py\n",
    "```\n",
    "\n",
    "Esse comando tem as seguintes características:\n",
    "\n",
    "- ✅ Executa o script completo (incluindo o bloco `if __name__ == \"__main__\":`)\n",
    "- ✅ Torna todas as funções e variáveis definidas no script disponíveis no notebook\n",
    "- ✅ Pode usar caminhos relativos ou absolutos\n",
    "- ✅ Útil para importar módulos customizados ou reutilizar código"
   ]
  },
  {
   "cell_type": "code",
   "execution_count": 25,
   "id": "0c1cc4fe",
   "metadata": {},
   "outputs": [
    {
     "name": "stdout",
     "output_type": "stream",
     "text": [
      "4.0\n"
     ]
    }
   ],
   "source": [
    "# Método 1: Executar o script usando %run\n",
    "\n",
    "%run add_two_numbers.py"
   ]
  },
  {
   "cell_type": "code",
   "execution_count": 26,
   "id": "5839d47c",
   "metadata": {},
   "outputs": [
    {
     "name": "stdout",
     "output_type": "stream",
     "text": [
      "📊 Resultado da soma: 30.8\n",
      "📊 3.14 + 2.86 = 6.0\n",
      "📊 100.0 + (-50.5) = 49.5\n"
     ]
    }
   ],
   "source": [
    "# Método 2: Após executar com %run, a função fica disponível no namespace\n",
    "# Agora podemos usar a função diretamente:\n",
    "\n",
    "resultado = soma_dois_numbers(10.5, 20.3)\n",
    "print(f\"📊 Resultado da soma: {resultado}\")\n",
    "\n",
    "# Testando com outros valores:\n",
    "print(f\"📊 3.14 + 2.86 = {soma_dois_numbers(3.14, 2.86)}\")\n",
    "print(f\"📊 100.0 + (-50.5) = {soma_dois_numbers(100.0, -50.5)}\")\n"
   ]
  },
  {
   "cell_type": "code",
   "execution_count": 27,
   "id": "06b79918",
   "metadata": {},
   "outputs": [
    {
     "name": "stdout",
     "output_type": "stream",
     "text": [
      "Help on function soma_dois_numbers in module __main__:\n",
      "\n",
      "soma_dois_numbers(a: float, b: float) -> float\n",
      "    Realiza a soma de dois números reais.\n",
      "\n",
      "    Esta função recebe dois números de ponto flutuante e retorna\n",
      "    a soma aritmética entre eles.\n",
      "\n",
      "    Args:\n",
      "        a (float): Primeiro número real a ser somado.\n",
      "        b (float): Segundo número real a ser somado.\n",
      "\n",
      "    Returns:\n",
      "        float: O resultado da soma de a + b.\n",
      "\n",
      "    Examples:\n",
      "        >>> soma_dois_numbers(1.5, 2.5)\n",
      "        4.0\n",
      "\n",
      "        >>> soma_dois_numbers(10.0, -5.5)\n",
      "        4.5\n",
      "\n",
      "        >>> soma_dois_numbers(0.0, 0.0)\n",
      "        0.0\n",
      "\n"
     ]
    }
   ],
   "source": [
    "# Visualizando a documentação da função que importamos:\n",
    "help(soma_dois_numbers)\n"
   ]
  },
  {
   "cell_type": "markdown",
   "id": "e17717e4",
   "metadata": {},
   "source": [
    "# <font color=\"red\">Alternativa: Importar como módulo (forma tradicional)</font>"
   ]
  },
  {
   "cell_type": "markdown",
   "id": "8a6da674",
   "metadata": {},
   "source": [
    "Você pode importar a função ``soma_dois_numbers`` do script ``add_two_numbers.py`` de duas formas:"
   ]
  },
  {
   "cell_type": "code",
   "execution_count": 29,
   "id": "73fa8ead",
   "metadata": {},
   "outputs": [
    {
     "name": "stdout",
     "output_type": "stream",
     "text": [
      "🔢 Resultado usando import: 8.0\n"
     ]
    }
   ],
   "source": [
    "# Forma tradicional 1: Importar o módulo completo\n",
    "import add_two_numbers\n",
    "\n",
    "resultado = add_two_numbers.soma_dois_numbers(5.0, 3.0)\n",
    "print(f\"🔢 Resultado usando import: {resultado}\")\n"
   ]
  },
  {
   "cell_type": "code",
   "execution_count": 30,
   "id": "45517da1",
   "metadata": {},
   "outputs": [
    {
     "name": "stdout",
     "output_type": "stream",
     "text": [
      "🔢 Resultado usando from ... import: 40.0\n"
     ]
    }
   ],
   "source": [
    "# Forma tradicional 2: Importar apenas a função específica\n",
    "from add_two_numbers import soma_dois_numbers\n",
    "\n",
    "# Agora podemos usar diretamente (igual ao %run)\n",
    "resultado = soma_dois_numbers(15.0, 25.0)\n",
    "print(f\"🔢 Resultado usando from ... import: {resultado}\")\n"
   ]
  },
  {
   "cell_type": "markdown",
   "id": "6ccde028",
   "metadata": {},
   "source": [
    "# <font color=\"red\">Usando o comando `%run` para executar um ``Notebook``</font>\n"
   ]
  },
  {
   "cell_type": "code",
   "execution_count": 31,
   "id": "d96b0a2a",
   "metadata": {},
   "outputs": [
    {
     "name": "stdout",
     "output_type": "stream",
     "text": [
      "O resultado da multiplicação de 2 e 4 é: 8\n"
     ]
    }
   ],
   "source": [
    "# Executando o Notebook \"multiplication_of_two_real_numbers.ipynb\" com o comando `%run`:\n",
    "\n",
    "%run multiplication_of_two_real_numbers.ipynb"
   ]
  }
 ],
 "metadata": {
  "kernelspec": {
   "display_name": ".venv",
   "language": "python",
   "name": "python3"
  },
  "language_info": {
   "codemirror_mode": {
    "name": "ipython",
    "version": 3
   },
   "file_extension": ".py",
   "mimetype": "text/x-python",
   "name": "python",
   "nbconvert_exporter": "python",
   "pygments_lexer": "ipython3",
   "version": "3.13.7"
  }
 },
 "nbformat": 4,
 "nbformat_minor": 5
}
