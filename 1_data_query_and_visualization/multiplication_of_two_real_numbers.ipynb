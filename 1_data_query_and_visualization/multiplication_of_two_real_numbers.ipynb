{
 "cells": [
  {
   "cell_type": "markdown",
   "id": "f07e4bcd",
   "metadata": {},
   "source": [
    "# <h1 align=\"center\"><font color=\"gree\">Notebook como um módulo: Multiplicação de dois números reais</font></h1>"
   ]
  },
  {
   "cell_type": "markdown",
   "id": "3cae8eda",
   "metadata": {},
   "source": [
    "<font color=\"pink\">Senior Data Scientist.: Dr. Eddy Giusepe Chirinos Isidro</font>"
   ]
  },
  {
   "cell_type": "markdown",
   "id": "9453f6b7",
   "metadata": {},
   "source": [
    "Este Notebook será executado com o comando ``%run`` em outro Notebook (``importing_a_module.ipynb``). Ou seja, este Notebook será importado como um módulo."
   ]
  },
  {
   "cell_type": "code",
   "execution_count": 3,
   "id": "08507497",
   "metadata": {},
   "outputs": [
    {
     "name": "stdout",
     "output_type": "stream",
     "text": [
      "O resultado da multiplicação de 2 e 4 é: 8\n"
     ]
    }
   ],
   "source": [
    "def multiplication_of_two_real_numbers(a: float, b: float) -> float:\n",
    "    \"\"\"\n",
    "    Esta função recebe dois números de ponto flutuante e retorna\n",
    "    o produto aritmético entre eles.\n",
    "    \n",
    "    Args:\n",
    "        a (float): Primeiro número real a ser multiplicado.\n",
    "        b (float): Segundo número real a ser multiplicado.\n",
    "    \n",
    "    Returns: \n",
    "        float: O resultado da multiplicação de a * b.\n",
    "    \n",
    "    Examples:\n",
    "        >>> multiplication_of_two_real_numbers(2, 5)\n",
    "        10\n",
    "        \n",
    "\"\"\"\n",
    "    return a * b\n",
    "\n",
    "\n",
    "if __name__ == \"__main__\":\n",
    "    print(f\"O resultado da multiplicação de {2} e {4} é: {multiplication_of_two_real_numbers(2, 4)}\")\n"
   ]
  }
 ],
 "metadata": {
  "kernelspec": {
   "display_name": ".venv",
   "language": "python",
   "name": "python3"
  },
  "language_info": {
   "codemirror_mode": {
    "name": "ipython",
    "version": 3
   },
   "file_extension": ".py",
   "mimetype": "text/x-python",
   "name": "python",
   "nbconvert_exporter": "python",
   "pygments_lexer": "ipython3",
   "version": "3.13.7"
  }
 },
 "nbformat": 4,
 "nbformat_minor": 5
}
