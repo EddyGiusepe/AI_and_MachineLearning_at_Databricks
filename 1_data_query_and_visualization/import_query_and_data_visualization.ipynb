{
 "cells": [
  {
   "cell_type": "markdown",
   "metadata": {
    "application/vnd.databricks.v1+cell": {
     "cellMetadata": {},
     "inputWidgets": {},
     "nuid": "1363ea85-247b-4f1e-9607-670d63c335f4",
     "showTitle": false,
     "tableResultSettingsMap": {},
     "title": ""
    }
   },
   "source": [
    "# Tutorial: Consultar e visualizar dados de um Notebook"
   ]
  },
  {
   "cell_type": "markdown",
   "metadata": {
    "application/vnd.databricks.v1+cell": {
     "cellMetadata": {},
     "inputWidgets": {},
     "nuid": "837cfb5b-ddd1-4a1c-b940-b665fc707cf2",
     "showTitle": false,
     "tableResultSettingsMap": {},
     "title": ""
    }
   },
   "source": [
    "##### Senior Data Scientist.: Dr. Eddy Giusepe Chirinos Isidro"
   ]
  },
  {
   "cell_type": "markdown",
   "metadata": {
    "application/vnd.databricks.v1+cell": {
     "cellMetadata": {},
     "inputWidgets": {},
     "nuid": "fe9f3dca-38e2-4802-a3eb-3cc9b33d2254",
     "showTitle": false,
     "tableResultSettingsMap": {},
     "title": ""
    }
   },
   "source": [
    "Link de estudo:\n",
    "\n",
    "* [docs databricks](https://docs.databricks.com/aws/pt/getting-started/quick-start)"
   ]
  },
  {
   "cell_type": "code",
   "execution_count": 1,
   "metadata": {},
   "outputs": [
    {
     "name": "stdout",
     "output_type": "stream",
     "text": [
      "🔗 Carregado minhas credenciais do Databricks, com sucesso!\n"
     ]
    }
   ],
   "source": [
    "import os\n",
    "from dotenv import load_dotenv, find_dotenv\n",
    "\n",
    "\n",
    "_ = load_dotenv(find_dotenv())\n",
    "\n",
    "databricks_host = os.environ['DATABRICKS_HOST']\n",
    "databricks_token = os.environ['DATABRICKS_TOKEN']\n",
    "databricks_cluster_id = os.environ['DATABRICKS_CLUSTER_ID']\n",
    "\n",
    "print(\"🔗 Carregado minhas credenciais do Databricks, com sucesso!\")"
   ]
  },
  {
   "cell_type": "code",
   "execution_count": 2,
   "metadata": {},
   "outputs": [
    {
     "name": "stdout",
     "output_type": "stream",
     "text": [
      "✅ Conectado ao Databricks com sucesso!\n",
      "🔧 Versão Spark: 4.0.0\n"
     ]
    }
   ],
   "source": [
    "from databricks.connect import DatabricksSession # Esta classe é usada para conectar ao Databricks remotamente\n",
    "\n",
    "spark = DatabricksSession.builder.remote(host=databricks_host, token=databricks_token, cluster_id=databricks_cluster_id).getOrCreate()\n",
    "\n",
    "\n",
    "print(\"✅ Conectado ao Databricks com sucesso!\")\n",
    "print(f\"🔧 Versão Spark: {spark.version}\")"
   ]
  },
  {
   "cell_type": "code",
   "execution_count": null,
   "metadata": {},
   "outputs": [],
   "source": [
    "databricks_cluster_id = spark.conf.get(\"spark.databricks.clusterUsageTags.clusterId\")\n",
    "\n",
    "print(f\"Databricks Cluster ID: {databricks_cluster_id}\")"
   ]
  },
  {
   "cell_type": "code",
   "execution_count": 10,
   "metadata": {
    "application/vnd.databricks.v1+cell": {
     "cellMetadata": {
      "byteLimit": 2048000,
      "rowLimit": 10000
     },
     "inputWidgets": {},
     "nuid": "87de0a2f-026e-4449-ae60-36809862605f",
     "showTitle": false,
     "tableResultSettingsMap": {},
     "title": ""
    }
   },
   "outputs": [
    {
     "data": {
      "text/plain": [
       "DataFrame[tpep_pickup_datetime: timestamp, tpep_dropoff_datetime: timestamp, trip_distance: double, fare_amount: double, pickup_zip: int, dropoff_zip: int]"
      ]
     },
     "metadata": {},
     "output_type": "display_data"
    }
   ],
   "source": [
    "# Consultamos a seguinte Tabela:\n",
    "display(spark.read.table(\"samples.nyctaxi.trips\"))"
   ]
  },
  {
   "cell_type": "code",
   "execution_count": null,
   "metadata": {},
   "outputs": [],
   "source": [
    "# 📋 VISUALIZAR DADOS DA TABELA - Substituto para display()\n",
    "\n",
    "# Carregar a tabela\n",
    "taxi_df = spark.read.table(\"samples.nyctaxi.trips\")\n",
    "\n",
    "# Exibir informações básicas da tabela\n",
    "print(\"🚕 === DADOS DA TABELA NYC TAXI TRIPS ===\")\n",
    "print(f\"📊 Total de registros: {taxi_df.count():,}\")\n",
    "print(f\"📋 Total de colunas: {len(taxi_df.columns)}\")\n",
    "print(f\"🏷️ Colunas: {', '.join(taxi_df.columns)}\")\n",
    "\n",
    "print(\"\\n📋 ESTRUTURA DA TABELA:\")\n",
    "taxi_df.printSchema()\n"
   ]
  },
  {
   "cell_type": "code",
   "execution_count": null,
   "metadata": {},
   "outputs": [],
   "source": [
    "# 📊 EXIBIR OS DADOS - Equivalente ao display()\n",
    "\n",
    "print(\"🔍 === PRIMEIRAS 20 LINHAS DA TABELA ===\")\n",
    "# Usar .show() para exibir dados (substituto direto do display)\n",
    "taxi_df.show(20, truncate=False)\n",
    "\n",
    "print(\"\\n\" + \"=\"*50)\n",
    "print(\"📈 ESTATÍSTICAS RÁPIDAS:\")\n",
    "# Estatísticas básicas de colunas numéricas\n",
    "taxi_df.show()\n"
   ]
  },
  {
   "cell_type": "code",
   "execution_count": null,
   "metadata": {},
   "outputs": [],
   "source": [
    "# Consultamos a seguinte Tabela:\n",
    "display(spark.read.csv(\"/Volumes/workspace/default_eddy/volumeeddy-tmp-sampledata/sample_data.csv\", header=True, inferSchema=True))\n"
   ]
  }
 ],
 "metadata": {
  "application/vnd.databricks.v1+notebook": {
   "computePreferences": null,
   "dashboards": [],
   "environmentMetadata": {
    "base_environment": "",
    "environment_version": "3"
   },
   "inputWidgetPreferences": null,
   "language": "python",
   "notebookMetadata": {
    "pythonIndentUnit": 4
   },
   "notebookName": "import_query_and_data_visualization",
   "widgets": {}
  },
  "kernelspec": {
   "display_name": ".venv",
   "language": "python",
   "name": "python3"
  },
  "language_info": {
   "codemirror_mode": {
    "name": "ipython",
    "version": 3
   },
   "file_extension": ".py",
   "mimetype": "text/x-python",
   "name": "python",
   "nbconvert_exporter": "python",
   "pygments_lexer": "ipython3",
   "version": "3.13.3"
  }
 },
 "nbformat": 4,
 "nbformat_minor": 0
}
